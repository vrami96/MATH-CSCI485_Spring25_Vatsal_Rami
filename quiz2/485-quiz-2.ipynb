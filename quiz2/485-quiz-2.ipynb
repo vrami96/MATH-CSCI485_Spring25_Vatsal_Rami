{
 "cells": [
  {
   "cell_type": "code",
   "execution_count": 7,
   "id": "1def6df6-6883-4ec2-9f5f-ee4406f3b25e",
   "metadata": {},
   "outputs": [
    {
     "name": "stdout",
     "output_type": "stream",
     "text": [
      "HMM Forward Algorithm Probabilities:\n",
      "        Sunny    Cloudy     Rainy\n",
      "t=0  0.333333  0.223333  0.110000\n",
      "t=1  0.000000  0.103642  0.105212\n",
      "t=2  0.068922  0.070145  0.011287\n"
     ]
    },
    {
     "data": {
      "image/png": "[encoded data removed]",
      "text/plain": [
       "<Figure size 600x200 with 1 Axes>"
      ]
     },
     "metadata": {},
     "output_type": "display_data"
    }
   ],
   "source": [
    "import numpy as np\n",
    "import pandas as pd\n",
    "import matplotlib.pyplot as plt\n",
    "\n",
    "# Given transition probabilities (From -> To)\n",
    "transition_probs = np.array([\n",
    "    [0.25, 0.50, 0.25],  # Sunny -> [Sunny, Cloudy, Rainy]\n",
    "    [0.33, 0.33, 0.33],  # Cloudy -> [Sunny, Cloudy, Rainy]\n",
    "    [0.33, 0.67, 0.00]   # Rainy -> [Sunny, Cloudy, Rainy]\n",
    "])\n",
    "\n",
    "# Given emission probabilities (Weather -> Behavior)\n",
    "emission_probs = np.array([\n",
    "    [1.0, 0.0],  # Sunny -> [Walk, Umbrella]\n",
    "    [0.67, 0.33],  # Cloudy -> [Walk, Umbrella]\n",
    "    [0.33, 0.67]   # Rainy -> [Walk, Umbrella]\n",
    "])\n",
    "\n",
    "# Define states and observations\n",
    "states = [\"Sunny\", \"Cloudy\", \"Rainy\"]\n",
    "observations = [\"Walk\", \"Umbrella\"]\n",
    "num_states = len(states)\n",
    "\n",
    "# Assume uniform initial probabilities\n",
    "initial_probs = np.array([1/3, 1/3, 1/3])\n",
    "\n",
    "# Observation sequence: Walk -> Umbrella -> Walk\n",
    "obs_sequence = [0, 1, 0]  # Corresponding indices in `observations`\n",
    "\n",
    "# Forward Algorithm\n",
    "T = len(obs_sequence)\n",
    "alpha = np.zeros((T, num_states))\n",
    "\n",
    "# Initialization\n",
    "alpha[0, :] = initial_probs * emission_probs[:, obs_sequence[0]]\n",
    "\n",
    "# Recursion\n",
    "for t in range(1, T):\n",
    "    for j in range(num_states):\n",
    "        alpha[t, j] = np.sum(alpha[t - 1, :] * transition_probs[:, j]) * emission_probs[j, obs_sequence[t]]\n",
    "\n",
    "# Convert to DataFrame for display\n",
    "df_alpha = pd.DataFrame(alpha, columns=states, index=[f\"t={t}\" for t in range(T)])\n",
    "\n",
    "# Print the computed forward probabilities\n",
    "print(\"HMM Forward Algorithm Probabilities:\")\n",
    "print(df_alpha)\n",
    "\n",
    "# Plot the table\n",
    "fig, ax = plt.subplots(figsize=(6, 2))\n",
    "ax.axis('tight')\n",
    "ax.axis('off')\n",
    "ax.table(cellText=df_alpha.values, colLabels=df_alpha.columns, rowLabels=df_alpha.index, cellLoc='center', loc='center')\n",
    "\n",
    "# Show the table\n",
    "plt.show()"
   ]
  },
  {
   "cell_type": "code",
   "execution_count": 8,
   "id": "373d41a6-88d9-484e-a1b9-d9759ec9e6f3",
   "metadata": {},
   "outputs": [
    {
     "data": {
      "image/png": "[encoded data removed]",
      "text/plain": [
       "<Figure size 500x200 with 1 Axes>"
      ]
     },
     "metadata": {},
     "output_type": "display_data"
    }
   ],
   "source": [
    "# Define the MDP parameters\n",
    "states = [\"L\", \"M\", \"H\"]  # Low, Medium, High Wealth\n",
    "actions = [\"C\", \"A\"]  # Conservative, Aggressive\n",
    "\n",
    "gamma = 0.9  # Discount factor\n",
    "\n",
    "# Transition probabilities: P(s' | s, a)\n",
    "transition_probs = {\n",
    "    \"L\": {\"C\": {\"L\": 0.8, \"M\": 0.2}, \"A\": {\"L\": 0.6, \"M\": 0.4}},\n",
    "    \"M\": {\"C\": {\"M\": 0.7, \"H\": 0.3}, \"A\": {\"M\": 0.5, \"H\": 0.5}},\n",
    "    \"H\": {\"C\": {\"H\": 0.9, \"M\": 0.1}, \"A\": {\"H\": 0.7, \"M\": 0.3}}\n",
    "}\n",
    "\n",
    "# Rewards\n",
    "rewards = {\"L\": -1, \"M\": 3, \"H\": 5}\n",
    "\n",
    "# Initialize value function and policy\n",
    "V = {\"L\": 0, \"M\": 0, \"H\": 0}\n",
    "policy = {\"L\": None, \"M\": None, \"H\": None}\n",
    "\n",
    "# Number of iterations\n",
    "iterations = 3\n",
    "value_history = []\n",
    "\n",
    "# Value Iteration Process\n",
    "for i in range(iterations):\n",
    "    new_V = {}\n",
    "    for s in V.keys():\n",
    "        action_values = {}\n",
    "        for a in actions:\n",
    "            expected_value = sum(\n",
    "                transition_probs[s][a][s_prime] * V[s_prime] for s_prime in transition_probs[s][a]\n",
    "            )\n",
    "            action_values[a] = rewards[s] + gamma * expected_value\n",
    "        # Update the value function with the best action's value\n",
    "        new_V[s] = max(action_values.values())\n",
    "        # Store the best action (policy update)\n",
    "        policy[s] = max(action_values, key=action_values.get)\n",
    "    \n",
    "    V = new_V\n",
    "    value_history.append(V.copy())\n",
    "\n",
    "# Data for the table (Value Iteration results)\n",
    "data = {\n",
    "    \"Iteration 1\": [value_history[0][\"L\"], value_history[0][\"M\"], value_history[0][\"H\"]],\n",
    "    \"Iteration 2\": [value_history[1][\"L\"], value_history[1][\"M\"], value_history[1][\"H\"]],\n",
    "    \"Iteration 3\": [value_history[2][\"L\"], value_history[2][\"M\"], value_history[2][\"H\"]],\n",
    "}\n",
    "\n",
    "# Create DataFrame\n",
    "df_table = pd.DataFrame(data, index=[\"Low\", \"Medium\", \"High\"])\n",
    "\n",
    "# Plot table\n",
    "fig, ax = plt.subplots(figsize=(5, 2))\n",
    "ax.axis('tight')\n",
    "ax.axis('off')\n",
    "ax.table(cellText=df_table.values, colLabels=df_table.columns, rowLabels=df_table.index, cellLoc='center', loc='center')\n",
    "\n",
    "# Show the table\n",
    "plt.show()"
   ]
  },
  {
   "cell_type": "code",
   "execution_count": null,
   "id": "9a09934f-e82d-4c1c-9086-c227110b84bf",
   "metadata": {},
   "outputs": [],
   "source": []
  }
 ],
 "metadata": {
  "kernelspec": {
   "display_name": "Python 3 (ipykernel)",
   "language": "python",
   "name": "python3"
  },
  "language_info": {
   "codemirror_mode": {
    "name": "ipython",
    "version": 3
   },
   "file_extension": ".py",
   "mimetype": "text/x-python",
   "name": "python",
   "nbconvert_exporter": "python",
   "pygments_lexer": "ipython3",
   "version": "3.10.11"
  }
 },
 "nbformat": 4,
 "nbformat_minor": 5
}
